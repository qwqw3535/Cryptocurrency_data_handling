{
 "cells": [
  {
   "cell_type": "code",
   "execution_count": 49,
   "metadata": {},
   "outputs": [],
   "source": [
    "import numpy as np\n",
    "import pandas as pd\n",
    "import json\n",
    "import datetime as dt\n",
    "import os\n",
    "\n",
    "path_to_json = \"../data/binance/futures/1d\"\n"
   ]
  },
  {
   "cell_type": "code",
   "execution_count": 50,
   "metadata": {},
   "outputs": [],
   "source": [
    "json_files = [json for json in os.listdir(path_to_json)]\n"
   ]
  },
  {
   "cell_type": "code",
   "execution_count": 51,
   "metadata": {},
   "outputs": [
    {
     "data": {
      "text/plain": [
       "146"
      ]
     },
     "execution_count": 51,
     "metadata": {},
     "output_type": "execute_result"
    }
   ],
   "source": [
    "js_dfs = []\n",
    "for json_name in json_files:\n",
    "    temp_json = json.load(open(f\"{path_to_json}/{json_name}\"))\n",
    "    temp_df = pd.DataFrame(temp_json)\n",
    "    temp_df['noise'] = 1- abs((temp_df.loc[:,1] - temp_df.loc[:,4])/\n",
    "                                    (temp_df.loc[:,2] - temp_df.loc[:,3]))\n",
    "        \n",
    "    temp_df[\"noise_3d_average\"] = temp_df[\"noise\"].rolling(3).mean()\n",
    "    temp_df[\"noise_5d_average\"] = temp_df[\"noise\"].rolling(5).mean()\n",
    "    temp_df[\"date\"] = pd.to_datetime(temp_df.loc[:, 0], unit ='ms')\n",
    "    temp_df[\"date\"]= temp_df[\"date\"].apply(str)\n",
    "    temp_df[\"date\"]= temp_df[\"date\"].apply(lambda x: x[:-9])\n",
    "    temp_df[\"name\"] = json_name.split('_')[0]\n",
    "    js_dfs.append(temp_df)\n",
    "len(js_dfs)"
   ]
  },
  {
   "cell_type": "code",
   "execution_count": 52,
   "metadata": {},
   "outputs": [
    {
     "data": {
      "text/html": [
       "<div>\n",
       "<style scoped>\n",
       "    .dataframe tbody tr th:only-of-type {\n",
       "        vertical-align: middle;\n",
       "    }\n",
       "\n",
       "    .dataframe tbody tr th {\n",
       "        vertical-align: top;\n",
       "    }\n",
       "\n",
       "    .dataframe thead th {\n",
       "        text-align: right;\n",
       "    }\n",
       "</style>\n",
       "<table border=\"1\" class=\"dataframe\">\n",
       "  <thead>\n",
       "    <tr style=\"text-align: right;\">\n",
       "      <th></th>\n",
       "      <th>0</th>\n",
       "      <th>1</th>\n",
       "      <th>2</th>\n",
       "      <th>3</th>\n",
       "      <th>4</th>\n",
       "      <th>5</th>\n",
       "      <th>noise</th>\n",
       "      <th>noise_3d_average</th>\n",
       "      <th>noise_5d_average</th>\n",
       "      <th>date</th>\n",
       "      <th>name</th>\n",
       "    </tr>\n",
       "  </thead>\n",
       "  <tbody>\n",
       "    <tr>\n",
       "      <th>0</th>\n",
       "      <td>1608854400000</td>\n",
       "      <td>2.7000</td>\n",
       "      <td>2.9562</td>\n",
       "      <td>1.7498</td>\n",
       "      <td>2.2801</td>\n",
       "      <td>71519996.0</td>\n",
       "      <td>0.651940</td>\n",
       "      <td>NaN</td>\n",
       "      <td>NaN</td>\n",
       "      <td>2020-12-25</td>\n",
       "      <td>1INCH</td>\n",
       "    </tr>\n",
       "    <tr>\n",
       "      <th>1</th>\n",
       "      <td>1608940800000</td>\n",
       "      <td>2.2823</td>\n",
       "      <td>2.4260</td>\n",
       "      <td>1.5595</td>\n",
       "      <td>1.5960</td>\n",
       "      <td>72874458.0</td>\n",
       "      <td>0.207963</td>\n",
       "      <td>NaN</td>\n",
       "      <td>NaN</td>\n",
       "      <td>2020-12-26</td>\n",
       "      <td>1INCH</td>\n",
       "    </tr>\n",
       "    <tr>\n",
       "      <th>2</th>\n",
       "      <td>1609027200000</td>\n",
       "      <td>1.5960</td>\n",
       "      <td>1.6540</td>\n",
       "      <td>1.0415</td>\n",
       "      <td>1.0636</td>\n",
       "      <td>96158019.0</td>\n",
       "      <td>0.130776</td>\n",
       "      <td>0.330226</td>\n",
       "      <td>NaN</td>\n",
       "      <td>2020-12-27</td>\n",
       "      <td>1INCH</td>\n",
       "    </tr>\n",
       "    <tr>\n",
       "      <th>3</th>\n",
       "      <td>1609113600000</td>\n",
       "      <td>1.0615</td>\n",
       "      <td>1.2800</td>\n",
       "      <td>1.0409</td>\n",
       "      <td>1.1175</td>\n",
       "      <td>52486917.0</td>\n",
       "      <td>0.765788</td>\n",
       "      <td>0.368176</td>\n",
       "      <td>NaN</td>\n",
       "      <td>2020-12-28</td>\n",
       "      <td>1INCH</td>\n",
       "    </tr>\n",
       "    <tr>\n",
       "      <th>4</th>\n",
       "      <td>1609200000000</td>\n",
       "      <td>1.1172</td>\n",
       "      <td>1.1204</td>\n",
       "      <td>0.7563</td>\n",
       "      <td>0.8866</td>\n",
       "      <td>95372584.0</td>\n",
       "      <td>0.366658</td>\n",
       "      <td>0.421074</td>\n",
       "      <td>0.424625</td>\n",
       "      <td>2020-12-29</td>\n",
       "      <td>1INCH</td>\n",
       "    </tr>\n",
       "  </tbody>\n",
       "</table>\n",
       "</div>"
      ],
      "text/plain": [
       "               0       1       2       3       4           5     noise  \\\n",
       "0  1608854400000  2.7000  2.9562  1.7498  2.2801  71519996.0  0.651940   \n",
       "1  1608940800000  2.2823  2.4260  1.5595  1.5960  72874458.0  0.207963   \n",
       "2  1609027200000  1.5960  1.6540  1.0415  1.0636  96158019.0  0.130776   \n",
       "3  1609113600000  1.0615  1.2800  1.0409  1.1175  52486917.0  0.765788   \n",
       "4  1609200000000  1.1172  1.1204  0.7563  0.8866  95372584.0  0.366658   \n",
       "\n",
       "   noise_3d_average  noise_5d_average        date   name  \n",
       "0               NaN               NaN  2020-12-25  1INCH  \n",
       "1               NaN               NaN  2020-12-26  1INCH  \n",
       "2          0.330226               NaN  2020-12-27  1INCH  \n",
       "3          0.368176               NaN  2020-12-28  1INCH  \n",
       "4          0.421074          0.424625  2020-12-29  1INCH  "
      ]
     },
     "execution_count": 52,
     "metadata": {},
     "output_type": "execute_result"
    }
   ],
   "source": [
    "js_dfs[3].head()"
   ]
  },
  {
   "cell_type": "code",
   "execution_count": 53,
   "metadata": {},
   "outputs": [
    {
     "name": "stdout",
     "output_type": "stream",
     "text": [
      "['2019-10-01', '2019-11-01', '2019-12-01', '2020-01-01', '2020-02-01', '2020-03-01', '2020-04-01', '2020-05-01', '2020-06-01', '2020-07-01', '2020-08-01', '2020-09-01', '2020-10-01', '2020-11-01', '2020-12-01', '2021-01-01', '2021-02-01', '2021-03-01', '2021-04-01', '2021-05-01', '2021-06-01', '2021-07-01', '2021-08-01', '2021-09-01', '2021-10-01', '2021-11-01', '2021-12-01', '2022-01-01', '2022-02-01', '2022-03-01', '2022-04-01', '2022-05-01', '2022-06-01', '2022-07-01', '2022-08-01', '2022-09-01', '2022-10-01', '2022-11-01', '2022-12-01']\n"
     ]
    }
   ],
   "source": [
    "months=[]\n",
    "for i in range(1,13):\n",
    "    if i <10:\n",
    "        months.append(\"0\" + str(i) )\n",
    "    else:\n",
    "        months.append(str(i))\n",
    "years = [\"2020\",\"2021\",\"2022\",]\n",
    "dates = [\"2019-10-01\",\"2019-11-01\",\"2019-12-01\"]\n",
    "for year in years:\n",
    "    for month in months:\n",
    "        dates.append(year + \"-\" + month + '-' +\"01\" )\n",
    "print(dates)"
   ]
  },
  {
   "cell_type": "code",
   "execution_count": 54,
   "metadata": {},
   "outputs": [
    {
     "name": "stdout",
     "output_type": "stream",
     "text": [
      "     2019-10-01  2019-11-01  2019-12-01  2020-01-01  2020-02-01  2020-03-01  \\\n",
      "0             0           0           0           0           0           0   \n",
      "1             0           0           0           0           0           0   \n",
      "2             0           0           0           0           0           0   \n",
      "3             0           0           0           0           0           0   \n",
      "4             0           0           0           0           0           0   \n",
      "..          ...         ...         ...         ...         ...         ...   \n",
      "141           0           0           0           0           0           0   \n",
      "142           0           0           0           0           0           0   \n",
      "143           0           0           0           0           0           0   \n",
      "144           0           0           0           0           0           0   \n",
      "145           0           0           0           0           0           0   \n",
      "\n",
      "     2020-04-01  2020-05-01  2020-06-01  2020-07-01  ...  2022-03-01  \\\n",
      "0             0           0           0           0  ...           0   \n",
      "1             0           0           0           0  ...           0   \n",
      "2             0           0           0           0  ...           0   \n",
      "3             0           0           0           0  ...           0   \n",
      "4             0           0           0           0  ...           0   \n",
      "..          ...         ...         ...         ...  ...         ...   \n",
      "141           0           0           0           0  ...           0   \n",
      "142           0           0           0           0  ...           0   \n",
      "143           0           0           0           0  ...           0   \n",
      "144           0           0           0           0  ...           0   \n",
      "145           0           0           0           0  ...           0   \n",
      "\n",
      "     2022-04-01  2022-05-01  2022-06-01  2022-07-01  2022-08-01  2022-09-01  \\\n",
      "0             0           0           0           0           0           0   \n",
      "1             0           0           0           0           0           0   \n",
      "2             0           0           0           0           0           0   \n",
      "3             0           0           0           0           0           0   \n",
      "4             0           0           0           0           0           0   \n",
      "..          ...         ...         ...         ...         ...         ...   \n",
      "141           0           0           0           0           0           0   \n",
      "142           0           0           0           0           0           0   \n",
      "143           0           0           0           0           0           0   \n",
      "144           0           0           0           0           0           0   \n",
      "145           0           0           0           0           0           0   \n",
      "\n",
      "     2022-10-01  2022-11-01  2022-12-01  \n",
      "0             0           0           0  \n",
      "1             0           0           0  \n",
      "2             0           0           0  \n",
      "3             0           0           0  \n",
      "4             0           0           0  \n",
      "..          ...         ...         ...  \n",
      "141           0           0           0  \n",
      "142           0           0           0  \n",
      "143           0           0           0  \n",
      "144           0           0           0  \n",
      "145           0           0           0  \n",
      "\n",
      "[146 rows x 39 columns]\n"
     ]
    }
   ],
   "source": [
    "ranking = pd.DataFrame(0, index=np.arange(len(js_dfs)),columns=dates)\n",
    "print(ranking)\n"
   ]
  },
  {
   "cell_type": "code",
   "execution_count": 55,
   "metadata": {},
   "outputs": [
    {
     "name": "stdout",
     "output_type": "stream",
     "text": [
      "0       True\n",
      "1      False\n",
      "2      False\n",
      "3      False\n",
      "4      False\n",
      "       ...  \n",
      "115    False\n",
      "116    False\n",
      "117    False\n",
      "118    False\n",
      "119    False\n",
      "Name: date, Length: 120, dtype: bool\n",
      "True\n",
      "0      2022-09-09\n",
      "1      2022-09-10\n",
      "2      2022-09-11\n",
      "3      2022-09-12\n",
      "4      2022-09-13\n",
      "          ...    \n",
      "115    2023-01-02\n",
      "116    2023-01-03\n",
      "117    2023-01-04\n",
      "118    2023-01-05\n",
      "119    2023-01-06\n",
      "Name: date, Length: 120, dtype: object\n"
     ]
    }
   ],
   "source": [
    "print(js_dfs[0]['date'].isin([\"2022-09-09\"]))\n",
    "print(\"2022-09-09\" in js_dfs[0]['date'].values)\n",
    "print(js_dfs[0]['date'])"
   ]
  },
  {
   "cell_type": "code",
   "execution_count": 78,
   "metadata": {},
   "outputs": [],
   "source": [
    "for date in dates:\n",
    "    # print(date)\n",
    "    temp_list = []\n",
    "    for df in js_dfs:\n",
    "        df['noise_5d_average'].fillna(1, inplace=True)\n",
    "        if(date in df['date'].values ):\n",
    "            # temp_list.append(df.loc[df['date'] == date, df['noise_5d_average']]) \n",
    "            # temp_list.concat(df.loc[df['date'] == date,['noise_5d_average']], df.loc[df['date'] == date,['name']])\n",
    "            # print(df.loc[df['date'] == date,['noise_5d_average']].values[0][0])\n",
    "            temp_list.append((df.loc[df['date'] == date,['noise_5d_average']].values[0][0], df.loc[df['date'] == date,['name']].values[0][0]))\n",
    "    # print(temp_list)\n",
    "    if(len(temp_list) <len(js_dfs)):\n",
    "        for i in range(len(js_dfs) - len(temp_list)):\n",
    "            temp_list.append((1, \"empty\"))\n",
    "        \n",
    "    ranking[date] = temp_list"
   ]
  },
  {
   "cell_type": "code",
   "execution_count": 79,
   "metadata": {},
   "outputs": [
    {
     "name": "stdout",
     "output_type": "stream",
     "text": [
      "0      (0.37704996094453225, KAVA)\n",
      "1       (0.4292382999377531, REEF)\n",
      "2       (0.43470297405477254, OMG)\n",
      "3       (0.43819588505769486, SNX)\n",
      "4       (0.4496104041045113, UNFI)\n",
      "                  ...             \n",
      "141                     (1, empty)\n",
      "142                     (1, empty)\n",
      "143                     (1, empty)\n",
      "144                     (1, empty)\n",
      "145                     (1, empty)\n",
      "Name: 2021-04-01, Length: 146, dtype: object\n"
     ]
    }
   ],
   "source": [
    "ranking = ranking.apply(lambda x: sorted(x, key = lambda x:x[0]))\n",
    "ranking.to_json(\"../data/binance/monthly_pairs_by_5d_noise.json\")\n"
   ]
  },
  {
   "cell_type": "code",
   "execution_count": 82,
   "metadata": {},
   "outputs": [],
   "source": [
    "ranking_top5 = ranking.iloc[:5,:]\n",
    "ranking_top5.to_json(\"../data/binance/monthly_pairs_by_5d_noise_top5.json\")"
   ]
  }
 ],
 "metadata": {
  "kernelspec": {
   "display_name": "Python 3",
   "language": "python",
   "name": "python3"
  },
  "language_info": {
   "codemirror_mode": {
    "name": "ipython",
    "version": 3
   },
   "file_extension": ".py",
   "mimetype": "text/x-python",
   "name": "python",
   "nbconvert_exporter": "python",
   "pygments_lexer": "ipython3",
   "version": "3.11.0 (main, Oct 24 2022, 18:26:48) [MSC v.1933 64 bit (AMD64)]"
  },
  "orig_nbformat": 4,
  "vscode": {
   "interpreter": {
    "hash": "c261aea317cc0286b3b3261fbba9abdec21eaa57589985bb7a274bf54d6cc0a7"
   }
  }
 },
 "nbformat": 4,
 "nbformat_minor": 2
}
