{
 "cells": [
  {
   "cell_type": "code",
   "execution_count": 423,
   "metadata": {},
   "outputs": [],
   "source": [
    "import numpy as np\n",
    "import pandas as pd\n",
    "import json\n",
    "import datetime as dt\n",
    "data = json.load(open(\"../backtest_results/backtest-result-2023-01-13_16-41-59.json\"))\n",
    "df = pd.DataFrame(data[\"strategy\"])\n",
    "coin = \"XRP\""
   ]
  },
  {
   "cell_type": "code",
   "execution_count": 424,
   "metadata": {},
   "outputs": [
    {
     "name": "stdout",
     "output_type": "stream",
     "text": [
      "304.16353200000003\n",
      "          pair  stake_amount  max_stake_amount    amount  \\\n",
      "0     BTC/USDT     191.33360         191.33360     0.020   \n",
      "1     BTC/USDT     194.01282         194.01282     0.023   \n",
      "2     BTC/USDT     186.72302         186.72302     0.022   \n",
      "3     ETH/USDT     194.83497         194.83497     1.221   \n",
      "4     BTC/USDT     191.97318         191.97318     0.021   \n",
      "..         ...           ...               ...       ...   \n",
      "195  DOGE/USDT     738.94485         738.94485  6405.000   \n",
      "196   ETH/USDT     746.16260         746.16260     0.470   \n",
      "197   SOL/USDT     741.00000         741.00000    20.000   \n",
      "198  DOGE/USDT     761.57760         761.57760  5880.000   \n",
      "199   ETH/USDT     727.00608         727.00608     0.552   \n",
      "\n",
      "                     open_date                 close_date   open_rate  \\\n",
      "0    2019-10-26 04:00:00+00:00  2019-10-31 04:00:00+00:00  9566.68000   \n",
      "1    2020-01-08 01:00:00+00:00  2020-01-13 01:00:00+00:00  8435.34000   \n",
      "2    2020-01-14 06:00:00+00:00  2020-01-19 06:00:00+00:00  8487.41000   \n",
      "3    2020-01-14 17:00:00+00:00  2020-01-19 17:00:00+00:00   159.57000   \n",
      "4    2020-01-19 06:05:00+00:00  2020-01-24 06:05:00+00:00  9141.58000   \n",
      "..                         ...                        ...         ...   \n",
      "195  2022-10-30 15:40:00+00:00  2022-11-02 12:15:00+00:00     0.11537   \n",
      "196  2022-10-30 20:05:00+00:00  2022-11-04 20:05:00+00:00  1587.58000   \n",
      "197  2022-11-05 20:00:00+00:00  2022-11-07 07:45:00+00:00    37.05000   \n",
      "198  2022-11-02 12:20:00+00:00  2022-11-07 12:20:00+00:00     0.12952   \n",
      "199  2023-01-09 10:00:00+00:00  2023-01-09 21:10:00+00:00  1317.04000   \n",
      "\n",
      "     close_rate  fee_open  fee_close  ...  stop_loss_ratio   min_rate  \\\n",
      "0    9109.00000    0.0002     0.0002  ...             -0.2  8873.9800   \n",
      "1    8155.16000    0.0002     0.0002  ...             -0.2  7670.0000   \n",
      "2    9138.69000    0.0002     0.0002  ...             -0.2  8474.6200   \n",
      "3     165.35000    0.0002     0.0002  ...             -0.2   158.4300   \n",
      "4    8336.40000    0.0002     0.0002  ...             -0.2  8283.4000   \n",
      "..          ...       ...        ...  ...              ...        ...   \n",
      "195     0.12711    0.0002     0.0002  ...             -0.2     0.1109   \n",
      "196  1643.39000    0.0002     0.0002  ...             -0.2  1501.0000   \n",
      "197    31.07000    0.0002     0.0002  ...             -0.2    31.0500   \n",
      "198     0.11670    0.0002     0.0002  ...             -0.2     0.1116   \n",
      "199  1321.76000    0.0002     0.0002  ...             -0.2  1314.7000   \n",
      "\n",
      "       max_rate is_open  enter_tag  leverage  is_short  open_timestamp  \\\n",
      "0    9930.13000   False       None         1     False   1572062400000   \n",
      "1    8456.18000   False       None         1     False   1578445200000   \n",
      "2    9205.30000   False       None         1     False   1578981600000   \n",
      "3     179.57000   False       None         1     False   1579021200000   \n",
      "4    9155.00000   False       None         1     False   1579413900000   \n",
      "..          ...     ...        ...       ...       ...             ...   \n",
      "195     0.15888   False       None         1     False   1667144400000   \n",
      "196  1679.40000   False       None         1     False   1667160300000   \n",
      "197    37.33000   False       None         1     False   1667678400000   \n",
      "198     0.13880   False       None         1     False   1667391600000   \n",
      "199  1345.00000   False       None         1     False   1673258400000   \n",
      "\n",
      "     close_timestamp                                             orders  \n",
      "0      1572494400000  [{'amount': 0.02, 'safe_price': 9566.68, 'ft_o...  \n",
      "1      1578877200000  [{'amount': 0.023, 'safe_price': 8435.34, 'ft_...  \n",
      "2      1579413600000  [{'amount': 0.022, 'safe_price': 8487.41, 'ft_...  \n",
      "3      1579453200000  [{'amount': 1.221, 'safe_price': 159.57, 'ft_o...  \n",
      "4      1579845900000  [{'amount': 0.021, 'safe_price': 9141.58, 'ft_...  \n",
      "..               ...                                                ...  \n",
      "195    1667391300000  [{'amount': 6405.0, 'safe_price': 0.1153700000...  \n",
      "196    1667592300000  [{'amount': 0.47, 'safe_price': 1587.58, 'ft_o...  \n",
      "197    1667807100000  [{'amount': 20.0, 'safe_price': 37.05, 'ft_ord...  \n",
      "198    1667823600000  [{'amount': 5880.0, 'safe_price': 0.1295200000...  \n",
      "199    1673298600000  [{'amount': 0.552, 'safe_price': 1317.04, 'ft_...  \n",
      "\n",
      "[200 rows x 27 columns]\n"
     ]
    }
   ],
   "source": [
    "trades = df[\"VB_1d\"][\"trades\"]\n",
    "trades = pd.DataFrame(trades)\n",
    "stake_amount = trades[\"stake_amount\"]\n",
    "print(stake_amount.median())\n",
    "print(trades)"
   ]
  },
  {
   "cell_type": "code",
   "execution_count": 425,
   "metadata": {},
   "outputs": [
    {
     "name": "stdout",
     "output_type": "stream",
     "text": [
      "36.83216059433962\n"
     ]
    }
   ],
   "source": [
    "losses = trades.loc[trades[\"open_rate\"] > trades[\"close_rate\"]]\n",
    "# print(losses)\n",
    "new = pd.Series((losses[\"open_rate\"] - losses[\"close_rate\"])*losses[\"amount\"])\n",
    "# losses.loc[\"actual_loss\"] = (losses[\"open_rate\"] - losses[\"close_rate\"])*losses[\"amount\"]\n",
    "# print(losses.columns)\n",
    "print(new.mean())"
   ]
  },
  {
   "cell_type": "code",
   "execution_count": 426,
   "metadata": {},
   "outputs": [
    {
     "name": "stdout",
     "output_type": "stream",
     "text": [
      "70.44609007446807\n"
     ]
    }
   ],
   "source": [
    "winners = trades.loc[trades[\"open_rate\"] < trades[\"close_rate\"]]\n",
    "new_1 = pd.Series(( winners[\"close_rate\"] - winners[\"open_rate\"] )*winners[\"amount\"])\n",
    "\n",
    "print(new_1.mean())"
   ]
  },
  {
   "cell_type": "code",
   "execution_count": 427,
   "metadata": {},
   "outputs": [
    {
     "name": "stdout",
     "output_type": "stream",
     "text": [
      "37     2020-11-17 03:00:00+00:00\n",
      "39     2020-11-22 03:05:00+00:00\n",
      "46     2020-11-26 21:00:00+00:00\n",
      "99     2021-01-30 20:00:00+00:00\n",
      "120    2021-04-05 15:00:00+00:00\n",
      "122    2021-04-07 09:15:00+00:00\n",
      "124    2021-04-12 09:20:00+00:00\n",
      "157    2021-08-11 06:00:00+00:00\n",
      "179    2022-02-07 18:00:00+00:00\n",
      "190    2022-09-18 21:00:00+00:00\n",
      "Name: open_date, dtype: object\n"
     ]
    }
   ],
   "source": [
    "\n",
    "winners_more_than10 = trades.loc[ trades[\"close_rate\"] > 1.05*trades[\"open_rate\"] ]\n",
    "winners_more_than10_doge = winners_more_than10.loc[winners_more_than10['pair'] == coin+\"/USDT\"]\n",
    "winners_more_than10_doge_open_date = winners_more_than10_doge[\"open_date\"]\n",
    "print(winners_more_than10_doge_open_date)\n",
    "\n"
   ]
  },
  {
   "cell_type": "code",
   "execution_count": 428,
   "metadata": {},
   "outputs": [],
   "source": [
    "def round(x):\n",
    "    etc = x%86400\n",
    "    if(etc ==0):\n",
    "        return x\n",
    "    else: \n",
    "        return x-etc"
   ]
  },
  {
   "cell_type": "code",
   "execution_count": 429,
   "metadata": {},
   "outputs": [
    {
     "name": "stdout",
     "output_type": "stream",
     "text": [
      "37     1605582000\n",
      "39     1606014300\n",
      "46     1606424400\n",
      "99     1612036800\n",
      "120    1617634800\n",
      "122    1617786900\n",
      "124    1618219200\n",
      "157    1628661600\n",
      "179    1644256800\n",
      "190    1663534800\n",
      "Name: open_date, dtype: int64\n"
     ]
    },
    {
     "data": {
      "text/plain": [
       "37     1605571200000\n",
       "39     1606003200000\n",
       "46     1606348800000\n",
       "99     1611964800000\n",
       "120    1617580800000\n",
       "Name: open_date, dtype: int64"
      ]
     },
     "execution_count": 429,
     "metadata": {},
     "output_type": "execute_result"
    }
   ],
   "source": [
    "winners_more_than10_doge_open_date = winners_more_than10_doge_open_date.apply(lambda x : dt.datetime.strptime(x, \"%Y-%m-%d %H:%M:%S%z\"))\n",
    "\n",
    "winners_more_than10_doge_open_date = winners_more_than10_doge_open_date.apply(dt.datetime.timestamp)\n",
    "winners_more_than10_doge_open_date = winners_more_than10_doge_open_date.apply(np.int64)\n",
    "print(winners_more_than10_doge_open_date)\n",
    "winners_more_than10_doge_open_date = winners_more_than10_doge_open_date.apply(lambda x: round(x) )\n",
    "winners_more_than10_doge_open_date = winners_more_than10_doge_open_date.apply(lambda x: 1000*x)\n",
    "winners_more_than10_doge_open_date.head()"
   ]
  },
  {
   "cell_type": "code",
   "execution_count": 430,
   "metadata": {},
   "outputs": [
    {
     "data": {
      "text/html": [
       "<div>\n",
       "<style scoped>\n",
       "    .dataframe tbody tr th:only-of-type {\n",
       "        vertical-align: middle;\n",
       "    }\n",
       "\n",
       "    .dataframe tbody tr th {\n",
       "        vertical-align: top;\n",
       "    }\n",
       "\n",
       "    .dataframe thead th {\n",
       "        text-align: right;\n",
       "    }\n",
       "</style>\n",
       "<table border=\"1\" class=\"dataframe\">\n",
       "  <thead>\n",
       "    <tr style=\"text-align: right;\">\n",
       "      <th></th>\n",
       "      <th>0</th>\n",
       "      <th>1</th>\n",
       "      <th>2</th>\n",
       "      <th>3</th>\n",
       "      <th>4</th>\n",
       "      <th>5</th>\n",
       "    </tr>\n",
       "  </thead>\n",
       "  <tbody>\n",
       "    <tr>\n",
       "      <th>0</th>\n",
       "      <td>1578268800000</td>\n",
       "      <td>0.1970</td>\n",
       "      <td>0.2259</td>\n",
       "      <td>0.1970</td>\n",
       "      <td>0.2226</td>\n",
       "      <td>92022218.9</td>\n",
       "    </tr>\n",
       "    <tr>\n",
       "      <th>1</th>\n",
       "      <td>1578355200000</td>\n",
       "      <td>0.2227</td>\n",
       "      <td>0.2297</td>\n",
       "      <td>0.2071</td>\n",
       "      <td>0.2138</td>\n",
       "      <td>124985943.9</td>\n",
       "    </tr>\n",
       "    <tr>\n",
       "      <th>2</th>\n",
       "      <td>1578441600000</td>\n",
       "      <td>0.2138</td>\n",
       "      <td>0.2204</td>\n",
       "      <td>0.2013</td>\n",
       "      <td>0.2078</td>\n",
       "      <td>79791597.2</td>\n",
       "    </tr>\n",
       "    <tr>\n",
       "      <th>3</th>\n",
       "      <td>1578528000000</td>\n",
       "      <td>0.2078</td>\n",
       "      <td>0.2089</td>\n",
       "      <td>0.2010</td>\n",
       "      <td>0.2040</td>\n",
       "      <td>45126429.9</td>\n",
       "    </tr>\n",
       "    <tr>\n",
       "      <th>4</th>\n",
       "      <td>1578614400000</td>\n",
       "      <td>0.2039</td>\n",
       "      <td>0.2136</td>\n",
       "      <td>0.2001</td>\n",
       "      <td>0.2128</td>\n",
       "      <td>62488677.4</td>\n",
       "    </tr>\n",
       "  </tbody>\n",
       "</table>\n",
       "</div>"
      ],
      "text/plain": [
       "               0       1       2       3       4            5\n",
       "0  1578268800000  0.1970  0.2259  0.1970  0.2226   92022218.9\n",
       "1  1578355200000  0.2227  0.2297  0.2071  0.2138  124985943.9\n",
       "2  1578441600000  0.2138  0.2204  0.2013  0.2078   79791597.2\n",
       "3  1578528000000  0.2078  0.2089  0.2010  0.2040   45126429.9\n",
       "4  1578614400000  0.2039  0.2136  0.2001  0.2128   62488677.4"
      ]
     },
     "execution_count": 430,
     "metadata": {},
     "output_type": "execute_result"
    }
   ],
   "source": [
    "hour_data = json.load(open(f\"../data/binance/futures/{coin}_USDT-1d-futures.json\"))\n",
    "\n",
    "hour_df = pd.DataFrame(hour_data)\n",
    "\n",
    "hour_df.head()"
   ]
  },
  {
   "cell_type": "code",
   "execution_count": 431,
   "metadata": {},
   "outputs": [
    {
     "data": {
      "text/plain": [
       "0.5911274709180794"
      ]
     },
     "execution_count": 431,
     "metadata": {},
     "output_type": "execute_result"
    }
   ],
   "source": [
    "hour_df['noise'] = 1- abs((hour_df.loc[:,1] - hour_df.loc[:,4])/\n",
    "                                    (hour_df.loc[:,2] - hour_df.loc[:,3]))\n",
    "        \n",
    "        \n",
    "   \n",
    "# day_dataframe['noise_20_day_average'] = day_dataframe['noise'].rolling(20).mean()\n",
    "hour_df['noise_5_day_average'] = hour_df['noise'].rolling(10).mean()\n",
    "hour_df['noise_5_day_average'].median()"
   ]
  },
  {
   "cell_type": "code",
   "execution_count": 432,
   "metadata": {},
   "outputs": [
    {
     "name": "stdout",
     "output_type": "stream",
     "text": [
      "0.47741472780253313\n"
     ]
    }
   ],
   "source": [
    "# print(hour_df['noise_5_day_average'].loc[hour_df.iloc[:,0].isin(winners_more_than10_doge_open_date)])\n",
    "print(hour_df['noise_5_day_average'].loc[hour_df.iloc[:,0].isin(winners_more_than10_doge_open_date)].median())"
   ]
  },
  {
   "cell_type": "code",
   "execution_count": 433,
   "metadata": {},
   "outputs": [
    {
     "ename": "SyntaxError",
     "evalue": "invalid decimal literal (4283047527.py, line 9)",
     "output_type": "error",
     "traceback": [
      "\u001b[1;36m  Cell \u001b[1;32mIn[433], line 9\u001b[1;36m\u001b[0m\n\u001b[1;33m    3일\u001b[0m\n\u001b[1;37m    ^\u001b[0m\n\u001b[1;31mSyntaxError\u001b[0m\u001b[1;31m:\u001b[0m invalid decimal literal\n"
     ]
    }
   ],
   "source": [
    "# 5일\n",
    "# XRP-> median 0.5849, winners 0.4241\n",
    "# BTC-> 0.5803, 0.5334\n",
    "# DOGE-> 0.6007, 0.4603\n",
    "# SOL -> 0.5622, 0.5434\n",
    "# ETH -> 0.5548, 0.5322\n",
    "\n",
    "\n",
    "# 3일\n",
    "# XRP 0.5906, 0.4183\n",
    "# BTC 0.5823, 0.5304\n",
    "# DOGE 0.6033, 0.4340\n",
    "# SOL 0.5617, 0.5570\n",
    "# ETH 0.5505, 0.4857"
   ]
  }
 ],
 "metadata": {
  "kernelspec": {
   "display_name": "Python 3",
   "language": "python",
   "name": "python3"
  },
  "language_info": {
   "codemirror_mode": {
    "name": "ipython",
    "version": 3
   },
   "file_extension": ".py",
   "mimetype": "text/x-python",
   "name": "python",
   "nbconvert_exporter": "python",
   "pygments_lexer": "ipython3",
   "version": "3.11.0 (main, Oct 24 2022, 18:26:48) [MSC v.1933 64 bit (AMD64)]"
  },
  "orig_nbformat": 4,
  "vscode": {
   "interpreter": {
    "hash": "c261aea317cc0286b3b3261fbba9abdec21eaa57589985bb7a274bf54d6cc0a7"
   }
  }
 },
 "nbformat": 4,
 "nbformat_minor": 2
}
